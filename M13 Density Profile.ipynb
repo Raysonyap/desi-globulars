{
 "cells": [
  {
   "cell_type": "code",
   "execution_count": null,
   "metadata": {},
   "outputs": [],
   "source": [
    "from math import *\n",
    "\n",
    "import numpy as np\n",
    "\n",
    "import matplotlib.pyplot as plt\n",
    "\n",
    "from astropy.table import Table\n",
    "from astropy.io import fits\n",
    "import astropy.coordinates as coords\n",
    "import astropy.units as u"
   ]
  },
  {
   "cell_type": "code",
   "execution_count": null,
   "metadata": {},
   "outputs": [],
   "source": [
    "brick1 = Table.read('https://portal.nersc.gov/project/cosmo/data/legacysurvey/dr8/north/tractor/250/tractor-2503p362.fits', hdu=1)"
   ]
  },
  {
   "cell_type": "code",
   "execution_count": null,
   "metadata": {},
   "outputs": [],
   "source": [
    "star = brick1[(brick1[\"gaia_pointsource\"]) & (brick1['flux_g'] > 0) & (brick1['flux_r'] > 0)]"
   ]
  },
  {
   "cell_type": "code",
   "execution_count": null,
   "metadata": {
    "scrolled": true
   },
   "outputs": [],
   "source": [
    "star"
   ]
  },
  {
   "cell_type": "code",
   "execution_count": null,
   "metadata": {},
   "outputs": [],
   "source": [
    "m13 = coords.SkyCoord.from_name ('M 13')\n",
    "star_coords = coords.SkyCoord (star[\"ra\"], star[\"dec\"], unit = 'deg', frame = 'icrs')"
   ]
  },
  {
   "cell_type": "code",
   "execution_count": null,
   "metadata": {
    "scrolled": true
   },
   "outputs": [],
   "source": [
    "sep_m13 = star_coords.separation(m13).arcmin   \n",
    "star_count = np.empty((200,0))\n",
    "for a in np.arange(0,19.9,0.1):\n",
    "    donut = (sep_m13 > a) & (sep_m13 < a + 0.1)\n",
    "    indonut = star[donut]\n",
    "    star_count = np.append(star_count, len(indonut))\n",
    "print(star_count)"
   ]
  },
  {
   "cell_type": "code",
   "execution_count": null,
   "metadata": {},
   "outputs": [],
   "source": [
    "x = np.arange(0,19.9,0.1)\n",
    "y = star_count\n",
    "plt.scatter(x,y)"
   ]
  }
 ],
 "metadata": {
  "kernelspec": {
   "display_name": "Python 3",
   "language": "python",
   "name": "python3"
  },
  "language_info": {
   "codemirror_mode": {
    "name": "ipython",
    "version": 3
   },
   "file_extension": ".py",
   "mimetype": "text/x-python",
   "name": "python",
   "nbconvert_exporter": "python",
   "pygments_lexer": "ipython3",
   "version": "3.7.4"
  }
 },
 "nbformat": 4,
 "nbformat_minor": 2
}
